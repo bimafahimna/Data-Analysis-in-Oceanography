{
 "cells": [
  {
   "cell_type": "markdown",
   "metadata": {},
   "source": [
    "# CURRENT QUIVER PLOT"
   ]
  },
  {
   "cell_type": "code",
   "execution_count": 1,
   "metadata": {},
   "outputs": [],
   "source": [
    "#import library\n",
    "import os\n",
    "os.environ['PROJ_LIB'] = r'C:/Users/user/anaconda3/Lib/site-packages/mpl_toolkits/basemap'\n",
    "import netCDF4 as nc\n",
    "import numpy as np\n",
    "import pandas as pd\n",
    "import math\n",
    "import matplotlib\n",
    "import matplotlib.pyplot as plt\n",
    "import numpy as np\n",
    "import pandas as pd\n",
    "from   mpl_toolkits.basemap import Basemap, cm, shiftgrid, addcyclic\n",
    "import matplotlib.pyplot as plt\n",
    "from   netCDF4 import *"
   ]
  },
  {
   "cell_type": "markdown",
   "metadata": {},
   "source": [
    "# Input Data Arus"
   ]
  },
  {
   "cell_type": "code",
   "execution_count": 2,
   "metadata": {},
   "outputs": [
    {
     "data": {
      "text/plain": [
       "<class 'netCDF4._netCDF4.Dataset'>\n",
       "root group (NETCDF4 data model, file format HDF5):\n",
       "    classification_level: UNCLASSIFIED\n",
       "    distribution_statement: Approved for public release. Distribution unlimited.\n",
       "    downgrade_date: not applicable\n",
       "    classification_authority: not applicable\n",
       "    institution: Naval Oceanographic Office\n",
       "    source: HYCOM archive file\n",
       "    history: archv2ncdf3z\n",
       "    field_type: instantaneous\n",
       "    Conventions: CF-1.0 NAVO_netcdf_v1.0\n",
       "    History: Translated to CF-1.0 Conventions by Netcdf-Java CDM (CFGridWriter2)\n",
       "Original Dataset = GLBu0.08/expt_19.1/2005; Translation Date = 2021-10-21T16:10:41.542Z\n",
       "    geospatial_lat_min: -7.28000020980835\n",
       "    geospatial_lat_max: -2.319999933242798\n",
       "    geospatial_lon_min: 94.9599609375\n",
       "    geospatial_lon_max: 102.0\n",
       "    dimensions(sizes): time(31), depth(1), lat(63), lon(89)\n",
       "    variables(dimensions): int16 water_u(time,depth,lat,lon), float64 time(time), float64 depth(depth), float64 lat(lat), float64 lon(lon), int16 water_v(time,depth,lat,lon)\n",
       "    groups: "
      ]
     },
     "execution_count": 2,
     "metadata": {},
     "output_type": "execute_result"
    }
   ],
   "source": [
    "#salin path tempat penyimpanan data \n",
    "fn='E:/01 KULIAH/05 SEMESTER 7/asprak/ANDAT/data/1expt_19_2005.nc4' #contoh\n",
    "#melihat informasi dari dataset yang didonwload\n",
    "ds=nc.Dataset(fn)\n",
    "ds"
   ]
  },
  {
   "cell_type": "markdown",
   "metadata": {},
   "source": [
    "## Deklarasi Data Arus\n",
    "data arus yang digunakan dalam plot quiver merupakan data spasial, jadi gausah diambil di grid tertentu"
   ]
  },
  {
   "cell_type": "code",
   "execution_count": 3,
   "metadata": {},
   "outputs": [
    {
     "name": "stdout",
     "output_type": "stream",
     "text": [
      "dimensi u (63, 89)\n",
      "dimensi v (63, 89)\n",
      "dimensi lon (89,)\n",
      "dimensi lat (63,)\n",
      "dimensi time (31,)\n"
     ]
    }
   ],
   "source": [
    "u10=ds.variables['water_u'][0,0,:,:] \n",
    "v10=ds.variables['water_v'][0,0,:,:]\n",
    "lon=ds.variables['lon'][:]\n",
    "lat=ds.variables['lat'][:]\n",
    "time=ds.variables['time'][:]\n",
    "\n",
    "var = np.sqrt(abs(u10*u10) + (v10*v10))\n",
    "\n",
    "#melihat dimensi masing2 variabel\n",
    "print('dimensi u',np.shape(u10))\n",
    "print('dimensi v',np.shape(v10))\n",
    "print('dimensi lon',np.shape(lon))\n",
    "print('dimensi lat',np.shape(lat))\n",
    "print('dimensi time',np.shape(time))"
   ]
  },
  {
   "cell_type": "code",
   "execution_count": 4,
   "metadata": {},
   "outputs": [
    {
     "name": "stdout",
     "output_type": "stream",
     "text": [
      "lon[0]:  94.9599609375 lon[-1]:  94.9599609375\n",
      "lat[0]:  -7.28000020980835 lat[-1]:  -2.319999933242798\n",
      "[ 94.95996094  95.04003906  95.11999512  95.19995117  95.2800293\n",
      "  95.35998535  95.43994141  95.52001953  95.59997559  95.68005371\n",
      "  95.76000977  95.83996582  95.92004395  96.          96.07995605\n",
      "  96.16003418  96.23999023  96.31994629  96.40002441  96.47998047\n",
      "  96.56005859  96.64001465  96.7199707   96.80004883  96.88000488\n",
      "  96.95996094  97.04003906  97.11999512  97.19995117  97.2800293\n",
      "  97.35998535  97.43994141  97.52001953  97.59997559  97.68005371\n",
      "  97.76000977  97.83996582  97.92004395  98.          98.07995605\n",
      "  98.16003418  98.23999023  98.31994629  98.40002441  98.47998047\n",
      "  98.56005859  98.64001465  98.7199707   98.80004883  98.88000488\n",
      "  98.95996094  99.04003906  99.11999512  99.19995117  99.2800293\n",
      "  99.35998535  99.43994141  99.52001953  99.59997559  99.68005371\n",
      "  99.76000977  99.83996582  99.92004395 100.         100.07995605\n",
      " 100.16003418 100.23999023 100.31994629 100.40002441 100.47998047\n",
      " 100.56005859 100.64001465 100.7199707  100.80004883 100.88000488\n",
      " 100.95996094 101.04003906 101.11999512 101.19995117 101.2800293\n",
      " 101.35998535 101.43994141 101.52001953 101.59997559 101.68005371\n",
      " 101.76000977 101.83996582 101.92004395 102.        ]\n",
      "[-7.28000021 -7.19999981 -7.11999989 -7.03999996 -6.96000004 -6.88000011\n",
      " -6.80000019 -6.71999979 -6.63999987 -6.55999994 -6.48000002 -6.4000001\n",
      " -6.32000017 -6.23999977 -6.15999985 -6.07999992 -6.         -5.92000008\n",
      " -5.84000015 -5.76000023 -5.67999983 -5.5999999  -5.51999998 -5.44000006\n",
      " -5.36000013 -5.28000021 -5.19999981 -5.11999989 -5.03999996 -4.96000004\n",
      " -4.88000011 -4.80000019 -4.71999979 -4.63999987 -4.55999994 -4.48000002\n",
      " -4.4000001  -4.32000017 -4.23999977 -4.15999985 -4.07999992 -4.\n",
      " -3.92000008 -3.83999991 -3.75999999 -3.68000007 -3.5999999  -3.51999998\n",
      " -3.44000006 -3.3599999  -3.27999997 -3.20000005 -3.11999989 -3.03999996\n",
      " -2.96000004 -2.88000011 -2.79999995 -2.72000003 -2.6400001  -2.55999994\n",
      " -2.48000002 -2.4000001  -2.31999993]\n"
     ]
    },
    {
     "name": "stderr",
     "output_type": "stream",
     "text": [
      "C:\\Users\\user\\anaconda3\\lib\\site-packages\\numpy\\ma\\core.py:3188: FutureWarning: Using a non-tuple sequence for multidimensional indexing is deprecated; use `arr[tuple(seq)]` instead of `arr[seq]`. In the future this will be interpreted as an array index, `arr[np.array(seq)]`, which will result either in an error or a different result.\n",
      "  dout = self.data[indx]\n",
      "C:\\Users\\user\\anaconda3\\lib\\site-packages\\numpy\\ma\\core.py:3220: FutureWarning: Using a non-tuple sequence for multidimensional indexing is deprecated; use `arr[tuple(seq)]` instead of `arr[seq]`. In the future this will be interpreted as an array index, `arr[np.array(seq)]`, which will result either in an error or a different result.\n",
      "  mout = _mask[indx]\n"
     ]
    }
   ],
   "source": [
    "u, lonsout = addcyclic(u10, lon)\n",
    "v, lonsout = addcyclic(v10, lon)\n",
    "print (\"lon[0]: \", lonsout[0], \"lon[-1]: \", lonsout[-1])\n",
    "print (\"lat[0]: \", lat[0], \"lat[-1]: \", lat[-1])\n",
    "\n",
    "lonsout2=(lonsout[:(len(lonsout)-1)]) #memotong 1 data\n",
    "\n",
    "print (lonsout2[:])\n",
    "print (lat[:])\n",
    "#cek dulu lon dan lat nya naik dari kecil ke besar engga, kalo misalnya belom ditambah begini\n",
    "#lat2= lat[::-1] atau lonsout3=lonsout2[::-1] gitudeh terus dibawah jangan lupa diubah juga waktu plot quiver "
   ]
  },
  {
   "cell_type": "markdown",
   "metadata": {},
   "source": [
    "# Membuat Quiver Plot Arus"
   ]
  },
  {
   "cell_type": "code",
   "execution_count": null,
   "metadata": {},
   "outputs": [],
   "source": [
    "#-- Membuat figure\n",
    "dpi = 100\n",
    "fig = plt.figure(figsize=(1100/dpi, 1100/dpi), dpi=dpi)\n",
    "ax  = fig.add_axes([0.1,0.1,0.8,0.9])\n",
    "\n",
    "#-- Membuat map #isi koordinat masing2 yaa\n",
    "map = Basemap(projection='merc',llcrnrlat= -7.2 ,urcrnrlat= -2.3,\\\n",
    "            resolution='i',  llcrnrlon=94.9,urcrnrlon=102.)\n",
    "\n",
    "map.shadedrelief()\n",
    "\n",
    "#-- menggambarkan coastlines, batas wilayah dan negara\n",
    "map.drawcoastlines()\n",
    "map.drawstates()\n",
    "map.drawcountries()\n",
    "\n",
    "#-- membuat grid\n",
    "map.drawparallels(np.arange(-90,90,1),labels=[1,0,0,0],fontsize=10)\n",
    "map.drawmeridians(np.arange(-180,180,1),labels=[0,0,0,1],fontsize=10)\n",
    "\n",
    "#-- mengubah latitute dan longitude menjadi x y \n",
    "x, y = map(*np.meshgrid(lon,lat))\n",
    "\n",
    "#-- contour levels\n",
    "clevs = np.arange(-1,1.3,0.01) #bisa diubah2 sesuai cakupan data\n",
    "\n",
    "#-- Countour\n",
    "cnplot = map.contourf(x,y,var,clevs,cmap=plt.cm.jet)\n",
    "\n",
    "#-- colorbar\n",
    "cbar = map.colorbar(cnplot,location='bottom',pad=\"10%\")      #-- pad: jarak peta dengan colorbar\n",
    "cbar.set_label('kecepatan (m/s)')                            #-- Masukan nama colorbar\n",
    "\n",
    "#-- transformasi vector dan data koordinat, membuat vector\n",
    "veclon = int(u10.shape[1]/2)                    #-- only every 2nd vector\n",
    "veclat = int(u10.shape[0]/2)                   #-- only every 2nd vector\n",
    "\n",
    "uproj,vproj,xx,yy = map.transform_vector(u,v,lonsout2,lat,veclon,veclat,returnxy=True,masked=True)\n",
    "\n",
    "#-- create vector plot on map\n",
    "vecplot = map.quiver(xx,yy,uproj,vproj,scale=20)\n",
    "qk = plt.quiverkey(vecplot, 0.2, -0.2, 1, '1 m/s', labelpos='W')  #legenda quiver, diubah2 berdasarkan cakupan data juga\n",
    "#JUDUL\n",
    "plt.title('Quiver Plot Arus di 2.3-7.3° S, 95-102° E pada Juli 2005') #JUDUL UBAH SESUAI DAERAH / menyesuaikan sendiri\n",
    "plt.show()\n",
    "#plt.savefig('E:/01 KULIAH/03 SEMESTER 5/ANDAT/PRAKTIKUM/modul4/MODUL 4 ANALISIS DATA 2020/MODUL 4 ANALISIS DATA/Quiver.png',dpi=300)"
   ]
  },
  {
   "cell_type": "code",
   "execution_count": null,
   "metadata": {},
   "outputs": [],
   "source": []
  }
 ],
 "metadata": {
  "kernelspec": {
   "display_name": "Python 3",
   "language": "python",
   "name": "python3"
  },
  "language_info": {
   "codemirror_mode": {
    "name": "ipython",
    "version": 3
   },
   "file_extension": ".py",
   "mimetype": "text/x-python",
   "name": "python",
   "nbconvert_exporter": "python",
   "pygments_lexer": "ipython3",
   "version": "3.8.3"
  }
 },
 "nbformat": 4,
 "nbformat_minor": 4
}
